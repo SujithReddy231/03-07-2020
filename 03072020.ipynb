{
 "cells": [
  {
   "cell_type": "code",
   "execution_count": 1,
   "metadata": {},
   "outputs": [
    {
     "name": "stdout",
     "output_type": "stream",
     "text": [
      "enter list elements:\n",
      "!!!enter done to stop!!!\n",
      "enter element:1\n",
      "enter element:2\n",
      "enter element:3\n",
      "enter element:4\n",
      "enter element:done\n",
      "sum of list [1, 2, 3, 4] is\n",
      " 10\n"
     ]
    }
   ],
   "source": [
    "#3\n",
    "print(\"enter list elements:\")\n",
    "print(\"!!!enter done to stop!!!\")\n",
    "l1=[]\n",
    "while True:\n",
    "    x=input(\"enter element:\")\n",
    "    if x=='done':\n",
    "        break\n",
    "    x=int(x)\n",
    "    l1.append(x)\n",
    "print('sum of list',l1,'is\\n',sum(l1))"
   ]
  },
  {
   "cell_type": "code",
   "execution_count": 2,
   "metadata": {},
   "outputs": [
    {
     "name": "stdout",
     "output_type": "stream",
     "text": [
      "enter no of empty dictionaries:6\n",
      "[{}, {}, {}, {}, {}, {}]\n"
     ]
    }
   ],
   "source": [
    "#4\n",
    "n=int(input(\"enter no of empty dictionaries:\"))\n",
    "d={}\n",
    "l1=[]\n",
    "for i in range(n):\n",
    "    l1.append(d)\n",
    "print(l1)"
   ]
  },
  {
   "cell_type": "code",
   "execution_count": 3,
   "metadata": {},
   "outputs": [
    {
     "name": "stdout",
     "output_type": "stream",
     "text": [
      "sujith\n"
     ]
    }
   ],
   "source": [
    "#5\n",
    "d={'sujith':1,'reddy':2}\n",
    "print(list(d)[0])"
   ]
  },
  {
   "cell_type": "code",
   "execution_count": 5,
   "metadata": {},
   "outputs": [
    {
     "name": "stdout",
     "output_type": "stream",
     "text": [
      "enter key and values:\n",
      "!!!enter done to stop !!!\n",
      "enter the key:sujith\n",
      "enter value:reddy\n",
      "enter the key:1\n",
      "enter value:2\n",
      "enter the key:3\n",
      "enter value:4\n",
      "enter the key:done\n",
      "-----iterating through dictionary-----\n",
      "sujith reddy\n",
      "1 2\n",
      "3 4\n"
     ]
    }
   ],
   "source": [
    "#6\n",
    "print(\"enter key and values:\")\n",
    "print('!!!enter done to stop !!!')\n",
    "dict1={}\n",
    "while True:\n",
    "    key=input(\"enter the key:\")\n",
    "    if key==\"done\":\n",
    "        break\n",
    "    values=input(\"enter value:\")\n",
    "    dict1[key]=values\n",
    "print('-----iterating through dictionary-----')\n",
    "for i in dict1:\n",
    "    print(i,dict1[i])"
   ]
  },
  {
   "cell_type": "code",
   "execution_count": 6,
   "metadata": {
    "scrolled": true
   },
   "outputs": [
    {
     "name": "stdout",
     "output_type": "stream",
     "text": [
      "enter key and values:\n",
      "!!!enter done to stop !!!\n",
      "enter the key:1\n",
      "enter value:2\n",
      "enter the key:3\n",
      "enter value:4\n",
      "enter the key:done\n",
      "sum of items= 10\n"
     ]
    }
   ],
   "source": [
    "#7\n",
    "dict1={}\n",
    "print(\"enter key and values:\")\n",
    "print('!!!enter done to stop !!!')\n",
    "while True:\n",
    "    key=input(\"enter the key:\")\n",
    "    if key==\"done\":\n",
    "        break\n",
    "    key=int(key)\n",
    "    values=int(input(\"enter value:\"))\n",
    "    dict1[key]=values \n",
    "sum=0\n",
    "for i in dict1:\n",
    "    sum=sum+i+dict1[i]\n",
    "print('sum of items=',sum)"
   ]
  },
  {
   "cell_type": "code",
   "execution_count": 7,
   "metadata": {},
   "outputs": [
    {
     "name": "stdout",
     "output_type": "stream",
     "text": [
      "{1: 10, 2: 20, 3: 30, 4: 40, 5: 50, 6: 60}\n"
     ]
    }
   ],
   "source": [
    "#8\n",
    "dict1={1:10,2:20}\n",
    "dict2={3:30,4:40}\n",
    "dict3={5:50,6:60}\n",
    "d={}\n",
    "d.update(dict1)\n",
    "d.update(dict2)\n",
    "d.update(dict3)\n",
    "print(d)"
   ]
  },
  {
   "cell_type": "code",
   "execution_count": 8,
   "metadata": {},
   "outputs": [
    {
     "name": "stdout",
     "output_type": "stream",
     "text": [
      "enter elements to be added to tuple:\n",
      "!!!enter done to stop!!!\n",
      "enter element:1\n",
      "enter element:2\n",
      "enter element:3\n",
      "enter element:4\n",
      "enter element:5\n",
      "enter element:6\n",
      "enter element:done\n",
      "(1, 2, 3, 4, 5, 6)\n"
     ]
    }
   ],
   "source": [
    "#10\n",
    "print(\"enter elements to be added to tuple:\")\n",
    "print(\"!!!enter done to stop!!!\")\n",
    "l1=[]\n",
    "while True:\n",
    "    x=input(\"enter element:\")\n",
    "    if x=='done':\n",
    "        break\n",
    "    x=int(x)\n",
    "    l1.append(x)\n",
    "t1=tuple(l1)\n",
    "print(t1)\n",
    "#or simply:- t=(1,2,3,4,5)  or   t=tuple()"
   ]
  },
  {
   "cell_type": "code",
   "execution_count": 9,
   "metadata": {},
   "outputs": [
    {
     "name": "stdout",
     "output_type": "stream",
     "text": [
      "enter number:2\n",
      "enter floating point number:2.314\n",
      "enter string:sujith\n",
      "(2, 2.314, 'sujith')\n"
     ]
    }
   ],
   "source": [
    "#11\n",
    "number=int(input(\"enter number:\"))\n",
    "floating=float(input(\"enter floating point number:\"))\n",
    "string=input(\"enter string:\")\n",
    "t1=(number,floating,string)\n",
    "print(t1)"
   ]
  },
  {
   "cell_type": "code",
   "execution_count": 10,
   "metadata": {},
   "outputs": [
    {
     "name": "stdout",
     "output_type": "stream",
     "text": [
      "sujithreddy\n"
     ]
    }
   ],
   "source": [
    "#12\n",
    "t=('sujith','reddy')\n",
    "s1=''.join(t)\n",
    "print(s1)"
   ]
  },
  {
   "cell_type": "code",
   "execution_count": 11,
   "metadata": {},
   "outputs": [
    {
     "name": "stdout",
     "output_type": "stream",
     "text": [
      "('sujith', 'reddy', 'ddddddddddddd')\n"
     ]
    }
   ],
   "source": [
    "#13\n",
    "t=('sujith','reddy','ddddddddddddd','dddd','ddddddddddddddd')\n",
    "print(t[0:3])"
   ]
  },
  {
   "cell_type": "code",
   "execution_count": 12,
   "metadata": {},
   "outputs": [
    {
     "name": "stdout",
     "output_type": "stream",
     "text": [
      "5\n"
     ]
    }
   ],
   "source": [
    "#14\n",
    "t=('sujith','reddy','ddddddddddddd','dddd','ddddddddddddddd')\n",
    "print(len(t))"
   ]
  },
  {
   "cell_type": "code",
   "execution_count": 13,
   "metadata": {},
   "outputs": [
    {
     "name": "stdout",
     "output_type": "stream",
     "text": [
      "{1: 10, 2: 20, 3: 30, 4: 40, 5: 50, 6: 60}\n"
     ]
    }
   ],
   "source": [
    "#15 1st type\n",
    "t=((1, 10), (2, 20), (3, 30), (4, 40), (5, 50), (6, 60))\n",
    "d1=dict(t)\n",
    "print(d1)"
   ]
  },
  {
   "cell_type": "code",
   "execution_count": 14,
   "metadata": {},
   "outputs": [
    {
     "name": "stdout",
     "output_type": "stream",
     "text": [
      "{'s': 'u', 'j': 'i', 't': 'h'}\n"
     ]
    }
   ],
   "source": [
    "#15 2nd type\n",
    "t=('su','ji','th')\n",
    "d1=dict(t)\n",
    "print(d1)"
   ]
  },
  {
   "cell_type": "code",
   "execution_count": 15,
   "metadata": {},
   "outputs": [
    {
     "name": "stdout",
     "output_type": "stream",
     "text": [
      "('th', 'ji', 'su')\n"
     ]
    }
   ],
   "source": [
    "#16\n",
    "t=('su','ji','th')\n",
    "tu2=t[::-1]\n",
    "print(tu2)"
   ]
  },
  {
   "cell_type": "code",
   "execution_count": 16,
   "metadata": {},
   "outputs": [
    {
     "name": "stdout",
     "output_type": "stream",
     "text": [
      "{1: 10, 2: 20, 3: 30, 4: 40, 5: 50, 6: 60}\n"
     ]
    }
   ],
   "source": [
    "#17\n",
    "l=[(1, 10), (2, 20), (3, 30), (4, 40), (5, 50), (6, 60)]\n",
    "d1=dict(t)\n",
    "print(d)"
   ]
  },
  {
   "cell_type": "code",
   "execution_count": 17,
   "metadata": {},
   "outputs": [
    {
     "name": "stdout",
     "output_type": "stream",
     "text": [
      "(2, 3, 4, 5, 6, 7)\n"
     ]
    }
   ],
   "source": [
    "#18\n",
    "lw=[2, 3, 4, 5, 6, 7]\n",
    "t=tuple(lw)\n",
    "print(t)"
   ]
  },
  {
   "cell_type": "code",
   "execution_count": null,
   "metadata": {},
   "outputs": [],
   "source": []
  }
 ],
 "metadata": {
  "kernelspec": {
   "display_name": "Python 3",
   "language": "python",
   "name": "python3"
  },
  "language_info": {
   "codemirror_mode": {
    "name": "ipython",
    "version": 3
   },
   "file_extension": ".py",
   "mimetype": "text/x-python",
   "name": "python",
   "nbconvert_exporter": "python",
   "pygments_lexer": "ipython3",
   "version": "3.8.3"
  }
 },
 "nbformat": 4,
 "nbformat_minor": 4
}
